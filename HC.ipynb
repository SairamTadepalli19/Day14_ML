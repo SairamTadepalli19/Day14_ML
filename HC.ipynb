{
  "nbformat": 4,
  "nbformat_minor": 0,
  "metadata": {
    "colab": {
      "name": "HC.ipynb",
      "provenance": [],
      "authorship_tag": "ABX9TyMI34oS2zyqCYBdaS4NjWma",
      "include_colab_link": true
    },
    "kernelspec": {
      "name": "python3",
      "display_name": "Python 3"
    },
    "language_info": {
      "name": "python"
    }
  },
  "cells": [
    {
      "cell_type": "markdown",
      "metadata": {
        "id": "view-in-github",
        "colab_type": "text"
      },
      "source": [
        "<a href=\"https://colab.research.google.com/github/SairamTadepalli19/Day14_ML/blob/main/HC.ipynb\" target=\"_parent\"><img src=\"https://colab.research.google.com/assets/colab-badge.svg\" alt=\"Open In Colab\"/></a>"
      ]
    },
    {
      "cell_type": "code",
      "metadata": {
        "id": "m47XYOfJmNfL"
      },
      "source": [
        "#Import the libraries\n",
        "\n",
        "import numpy as np\n",
        "import pandas as pd\n",
        "import matplotlib.pyplot as plt"
      ],
      "execution_count": 1,
      "outputs": []
    },
    {
      "cell_type": "code",
      "metadata": {
        "id": "DlPljdGvmYp2"
      },
      "source": [
        "#Import the dataset\n",
        "\n",
        "data = pd.read_csv(\"/content/Mall_Customers.csv\")"
      ],
      "execution_count": 3,
      "outputs": []
    },
    {
      "cell_type": "code",
      "metadata": {
        "id": "OBCDijkRmn29"
      },
      "source": [
        "x = data.iloc[:, [3,4]].values"
      ],
      "execution_count": 4,
      "outputs": []
    },
    {
      "cell_type": "code",
      "metadata": {
        "colab": {
          "base_uri": "https://localhost:8080/",
          "height": 295
        },
        "id": "C1m1t8i8mxPI",
        "outputId": "ef0a1b9a-1d23-4f5f-a154-000f3ec9906f"
      },
      "source": [
        "#Implement HC and find optimal number of clusters\n",
        "\n",
        "import scipy.cluster.hierarchy as sch\n",
        "\n",
        "dendrogram = sch.dendrogram(sch.linkage(x, method = 'ward'))\n",
        "\n",
        "\n",
        "plt.title(\"Dendrogram\")\n",
        "plt.xlabel(\"Clusters\")\n",
        "plt.ylabel(\"Distance\")\n",
        "plt.show()"
      ],
      "execution_count": 7,
      "outputs": [
        {
          "output_type": "display_data",
          "data": {
            "image/png": "[encoded data removed]",
            "text/plain": [
              "<Figure size 432x288 with 1 Axes>"
            ]
          },
          "metadata": {
            "tags": [],
            "needs_background": "light"
          }
        }
      ]
    },
    {
      "cell_type": "code",
      "metadata": {
        "id": "qHuRsr9ZnaTl"
      },
      "source": [
        "#Train the cluster with HC\n",
        "\n",
        "from sklearn.cluster import AgglomerativeClustering\n",
        "\n",
        "hc = AgglomerativeClustering(n_clusters = 5, affinity = \"euclidean\", linkage = 'ward')\n",
        "\n",
        "y_hc = hc.fit_predict(x)"
      ],
      "execution_count": 8,
      "outputs": []
    },
    {
      "cell_type": "code",
      "metadata": {
        "colab": {
          "base_uri": "https://localhost:8080/"
        },
        "id": "TPv0fAlIolYm",
        "outputId": "9c7f5bd8-8a65-4f0b-eac7-3afafbc2c40c"
      },
      "source": [
        "y_hc"
      ],
      "execution_count": 9,
      "outputs": [
        {
          "output_type": "execute_result",
          "data": {
            "text/plain": [
              "array([4, 3, 4, 3, 4, 3, 4, 3, 4, 3, 4, 3, 4, 3, 4, 3, 4, 3, 4, 3, 4, 3,\n",
              "       4, 3, 4, 3, 4, 3, 4, 3, 4, 3, 4, 3, 4, 3, 4, 3, 4, 3, 4, 3, 4, 1,\n",
              "       4, 1, 1, 1, 1, 1, 1, 1, 1, 1, 1, 1, 1, 1, 1, 1, 1, 1, 1, 1, 1, 1,\n",
              "       1, 1, 1, 1, 1, 1, 1, 1, 1, 1, 1, 1, 1, 1, 1, 1, 1, 1, 1, 1, 1, 1,\n",
              "       1, 1, 1, 1, 1, 1, 1, 1, 1, 1, 1, 1, 1, 1, 1, 1, 1, 1, 1, 1, 1, 1,\n",
              "       1, 1, 1, 1, 1, 1, 1, 1, 1, 1, 1, 1, 1, 2, 1, 2, 1, 2, 0, 2, 0, 2,\n",
              "       1, 2, 0, 2, 0, 2, 0, 2, 0, 2, 1, 2, 0, 2, 1, 2, 0, 2, 0, 2, 0, 2,\n",
              "       0, 2, 0, 2, 0, 2, 1, 2, 0, 2, 0, 2, 0, 2, 0, 2, 0, 2, 0, 2, 0, 2,\n",
              "       0, 2, 0, 2, 0, 2, 0, 2, 0, 2, 0, 2, 0, 2, 0, 2, 0, 2, 0, 2, 0, 2,\n",
              "       0, 2])"
            ]
          },
          "metadata": {
            "tags": []
          },
          "execution_count": 9
        }
      ]
    },
    {
      "cell_type": "code",
      "metadata": {
        "colab": {
          "base_uri": "https://localhost:8080/",
          "height": 295
        },
        "id": "jvdPtosuopkA",
        "outputId": "08b0fcdf-2375-4706-e130-64d6d4ed36f5"
      },
      "source": [
        "#0 - salary, 1 - scoring\n",
        "\n",
        "plt.scatter(x[y_hc == 0,0], x[y_hc == 0,1], s = 10, c = 'red', label = \"Cluster 1\")\n",
        "plt.scatter(x[y_hc == 1,0], x[y_hc == 1,1], s = 10, c = 'blue', label = \"Cluster 2\")\n",
        "plt.scatter(x[y_hc == 2,0], x[y_hc == 2,1], s = 10, c = 'green', label = \"Cluster 3\")\n",
        "plt.scatter(x[y_hc == 3,0], x[y_hc == 3,1], s = 10, c = 'yellow', label = \"Cluster 4\")\n",
        "plt.scatter(x[y_hc == 4,0], x[y_hc == 4,1], s = 10, c = 'orange', label = \"Cluster 5\")\n",
        "\n",
        "\n",
        "plt.title(\"HC With agglomerative principle\")\n",
        "\n",
        "plt.xlabel(\"Annual Salary\")\n",
        "plt.ylabel(\"Spending Score\")\n",
        "plt.legend()\n",
        "plt.show()"
      ],
      "execution_count": 11,
      "outputs": [
        {
          "output_type": "display_data",
          "data": {
            "image/png": "[encoded data removed]",
            "text/plain": [
              "<Figure size 432x288 with 1 Axes>"
            ]
          },
          "metadata": {
            "tags": [],
            "needs_background": "light"
          }
        }
      ]
    },
    {
      "cell_type": "code",
      "metadata": {
        "id": "Cf5G_8TVpsti"
      },
      "source": [
        ""
      ],
      "execution_count": null,
      "outputs": []
    }
  ]
}